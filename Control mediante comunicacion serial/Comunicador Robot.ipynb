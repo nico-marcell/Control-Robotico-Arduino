{
 "cells": [
  {
   "attachments": {},
   "cell_type": "markdown",
   "id": "b05cacc3",
   "metadata": {},
   "source": [
    "<h3>zeroMQ remote API: Información preliminar</h3>\n",
    "<br>Entre las múltiples opciones de comunicación con CoppeliaSIm, la zeroMQ remote API entrega funcionalidades que facilitan la interacción con scripts de Python y con otros lenguajes de programación.\n",
    "<br>Las instrucciones para instalar la librería se encuentra aquí: <a>https://www.coppeliarobotics.com/helpFiles/en/zmqRemoteApiOverview.htm</a>\n",
    "<br>La descripción detallada de las funciones de la API se encuentra aquí: <a>https://www.coppeliarobotics.com/helpFiles/en/apiFunctions.htm</a>"
   ]
  },
  {
   "attachments": {},
   "cell_type": "markdown",
   "id": "c8f2767d",
   "metadata": {},
   "source": [
    "<h3>1. Instrucciones mínimas para comunicarse con CoppeliaSim</h3>\n",
    "\n",
    "Varios ejemplos del uso de la zeroMQ remote API pueden consultarse aquí: <a>https://github.com/CoppeliaRobotics/zmqRemoteApi/tree/master/clients/python</a>"
   ]
  },
  {
   "cell_type": "code",
   "execution_count": null,
   "id": "f2a7b66b",
   "metadata": {},
   "outputs": [],
   "source": [
    "# https://www.coppeliarobotics.com/helpFiles/en/apiFunctions.htm\n",
    "# https://www.coppeliarobotics.com/helpFiles/en/zmqRemoteApiOverview.htm"
   ]
  },
  {
   "cell_type": "code",
   "execution_count": null,
   "id": "c5845c63",
   "metadata": {},
   "outputs": [],
   "source": [
    "# librerías requeridas\n",
    "import serial  # librería pyserial, para comunicación con los puertos serial < pip install pyserial >\n",
    "import time    # para el manejo de eventos de tiempo, nativa de Python\n",
    "import pandas as pd  # para el manejo de archivos de datos < pip install pandas >\n",
    "import matplotlib.pyplot as plt # para realizar gráficos < pip install matplotlib >\n"
   ]
  },
  {
   "cell_type": "code",
   "execution_count": null,
   "id": "8eaf94ae",
   "metadata": {},
   "outputs": [],
   "source": [
    "# 1. Importamos la librería para comunicaciones remotas\n",
    "# NOTA 1: Se requiere la instalación previa de pyzmq y cbor.\n",
    "# NOTA 2: Si la librería no está direccionada en el PATH de python, copiar \n",
    "#         la carpeta de librería 'zmqRemoteApi' junto a este cuaderno de Jypyter. \n",
    "#         'zmqRemoteApi' para Python se encuentra en:\n",
    "#                 *ruta de instalacion*\\CoppeliaSimEdu\\programming\\zmqRemoteApi\\clients\\python\\\n",
    "import zmqRemoteApi\n",
    "\n",
    "# 2. Se crea un cliente para conectarse al servidor zmqRemoteApi de CoppeliaSim\n",
    "# los parámetros por defecto son: host='localhost', port=23000\n",
    "client = zmqRemoteApi.RemoteAPIClient()\n",
    "\n",
    "# 3. Obtener el objeto remoto 'sim':\n",
    "sim = client.getObject('sim')\n",
    "\n",
    "# 4. Llamar a una funcion de la API:\n",
    "h = sim.getObject('/YuMi')"
   ]
  },
  {
   "cell_type": "code",
   "execution_count": null,
   "id": "2ff399fd",
   "metadata": {},
   "outputs": [],
   "source": [
    "# funciones para enviar y recibir mensajes en formato de texto, codificado en UTF-8\n",
    "# los mensajes utilizan como terminador un caracter de final de línea '\\n'\n",
    "def encode_send(ser, texto):\n",
    "    enc = f'{texto}\\n'.encode('UTF-8')\n",
    "    ser.write(enc)\n",
    "\n",
    "def decode_response(ser):\n",
    "    message_from_serial = ser.readline()\n",
    "    res = message_from_serial[:-1].decode()\n",
    "    return res"
   ]
  },
  {
   "attachments": {},
   "cell_type": "markdown",
   "id": "86fa1349",
   "metadata": {},
   "source": [
    "<h3>2. Usando la API remota para mover nuestro robot\n",
    "Y Obteniendo una lectura de datos </h3>\n"
   ]
  },
  {
   "cell_type": "code",
   "execution_count": 4,
   "id": "23aa093d",
   "metadata": {},
   "outputs": [],
   "source": [
    "# Cargamos la librería, creamos un cliente y obtenemos acceso a sim\n",
    "import zmqRemoteApi\n",
    "client = zmqRemoteApi.RemoteAPIClient()\n",
    "sim = client.getObject('sim')"
   ]
  },
  {
   "cell_type": "code",
   "execution_count": null,
   "id": "19a33923",
   "metadata": {},
   "outputs": [],
   "source": [
    "# Obtenemos los manejadores para las articulaciones y el actuador final\n",
    "leftjoint1 = sim.getObject('/YuMi/leftJoint1')  #Cada nombre depende del tipo de robot/articulación que queramos llegar \n",
    "leftjoint2 = sim.getObject('/YuMi/leftJoint2')\n",
    "leftjoint3 = sim.getObject('/YuMi/leftJoint3')\n",
    "\n",
    "print(leftjoint1, leftjoint2, leftjoint3)"
   ]
  },
  {
   "attachments": {},
   "cell_type": "markdown",
   "id": "17aa7f7c",
   "metadata": {},
   "source": [
    "<h3>3. Comprobar datos del análogo </h3>"
   ]
  },
  {
   "cell_type": "code",
   "execution_count": null,
   "id": "66244f89",
   "metadata": {},
   "outputs": [],
   "source": [
    "# Esquema básico para control de pines I/O en modo request-response\n",
    "\n",
    "# 1. Inicializa el puerto de comunicación y espera a que esté listo\n",
    "serialport = serial.Serial('COM4', 9600)\n",
    "time.sleep(0.1)   # tiempo de espera recomendado: 100 ms\n",
    "\n",
    "# 2. Preparamos el mensaje a ser transmitido\n",
    "led_verde = 0  # 0 = apagado, otro valor = encendido\n",
    "led_rojo = 0    # nivel PWM entre 0 y 255\n",
    "message_to_serial = str(led_verde) + ',' + str(led_rojo)\n",
    "\n",
    "# 3. Enviamos al puerto y esperamos la respuesta\n",
    "encode_send(serialport, message_to_serial)\n",
    "message_from_serial = decode_response(serialport)\n",
    "encode_send(serialport, message_to_serial)\n",
    "message_from_serial = decode_response(serialport)\n",
    "\n",
    "# 4. Procesamos la respuesta\n",
    "print(f'enviado: {message_to_serial}')\n",
    "\n",
    "data = message_from_serial.split(';')\n",
    "val_x = int(data[0])\n",
    "val_y = int(data[1])\n",
    "val_sw = int(data[2])\n",
    "if val_sw < 1023: \n",
    "    val_sw = 0\n",
    "else: val_sw = 1\n",
    "\n",
    "print(f'val_x = {val_x}')\n",
    "print(f'val_y = {val_y}')\n",
    "print(f'val_sw = {val_sw}')\n",
    "\n",
    "# 5. Cierra el puerto serial\n",
    "serialport.close()\n",
    "print('el puerto se ha cerrado correctamente')"
   ]
  },
  {
   "attachments": {},
   "cell_type": "markdown",
   "id": "93b34a15",
   "metadata": {},
   "source": [
    "<h3>Práctica con el Robot </h3>\n"
   ]
  },
  {
   "cell_type": "code",
   "execution_count": 66,
   "id": "ba49539a",
   "metadata": {},
   "outputs": [
    {
     "data": {
      "text/plain": [
       "1"
      ]
     },
     "execution_count": 66,
     "metadata": {},
     "output_type": "execute_result"
    }
   ],
   "source": [
    "#Movimiento del robot\n",
    "#se moverán los 3 joints a la vez\n",
    "sim.setJointTargetPosition(joint1, 90*3.14159/180)\n",
    "sim.setJointTargetPosition(joint2, 0.15) #debido a que joint2 es prismático su movimiento se mide en metros\n",
    "sim.setJointTargetPosition(joint3, 50*3.14159/180)"
   ]
  },
  {
   "cell_type": "code",
   "execution_count": null,
   "id": "6bec3522",
   "metadata": {},
   "outputs": [],
   "source": [
    "#Búsqueda de posición del robot\n",
    "xyz_joint1 = sim.getObjectPosition(joint1, sim.handle_world)\n",
    "xyz_joint2 = sim.getObjectPosition(joint2, sim.handle_world)\n",
    "xyz_joint3 = sim.getObjectPosition(joint3, sim.handle_world)\n",
    "xyz_endEffector = sim.getObjectPosition(endEffector, sim.handle_world)\n",
    "\n",
    "#Imprimir las coordenadas en pantalla\n",
    "print(f'Joint1: {xyz_joint1}', f'joint2: {xyz_joint2}', f'joint3: {xyz_joint3}', f'endEffector: {xyz_endEffector}')"
   ]
  },
  {
   "cell_type": "code",
   "execution_count": null,
   "id": "d9310404",
   "metadata": {},
   "outputs": [],
   "source": [
    "#Imprimir las coordenadas en pantalla\n",
    "print(f'joint1: {xyz_joint1}')\n",
    "print(f'joint2: {xyz_joint2}')\n",
    "print(f'joint3: {xyz_joint3}')\n",
    "print(f'endEffector: {xyz_endEffector}')"
   ]
  }
 ],
 "metadata": {
  "kernelspec": {
   "display_name": "Python 3 (ipykernel)",
   "language": "python",
   "name": "python3"
  },
  "language_info": {
   "codemirror_mode": {
    "name": "ipython",
    "version": 3
   },
   "file_extension": ".py",
   "mimetype": "text/x-python",
   "name": "python",
   "nbconvert_exporter": "python",
   "pygments_lexer": "ipython3",
   "version": "3.10.0"
  }
 },
 "nbformat": 4,
 "nbformat_minor": 5
}
